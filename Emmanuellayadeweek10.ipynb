{
 "cells": [
  {
   "cell_type": "code",
   "execution_count": 1,
   "id": "c4dc0484",
   "metadata": {},
   "outputs": [
    {
     "name": "stdout",
     "output_type": "stream",
     "text": [
      "Warning: Your index/key doesn't exist.\n"
     ]
    }
   ],
   "source": [
    "def simple_lookup(var1, var2):\n",
    "    try:\n",
    "        return var1[var2]\n",
    "    except KeyError:\n",
    "        print(\"Warning: Your index/key doesn't exist.\")\n",
    "\n",
    "simple_lookup({}, 'banana')"
   ]
  },
  {
   "cell_type": "code",
   "execution_count": 12,
   "id": "070933df",
   "metadata": {},
   "outputs": [
    {
     "ename": "InvalidAgeError",
     "evalue": "",
     "output_type": "error",
     "traceback": [
      "\u001b[0;31m---------------------------------------------------------------------------\u001b[0m",
      "\u001b[0;31mInvalidAgeError\u001b[0m                           Traceback (most recent call last)",
      "\u001b[0;32m/var/folders/8w/_49td4_162qg_28sdmf00rrr0000gn/T/ipykernel_76080/303874177.py\u001b[0m in \u001b[0;36m<module>\u001b[0;34m\u001b[0m\n\u001b[1;32m     11\u001b[0m         \u001b[0;32mraise\u001b[0m \u001b[0mInvalidAgeError\u001b[0m\u001b[0;34m\u001b[0m\u001b[0;34m\u001b[0m\u001b[0m\n\u001b[1;32m     12\u001b[0m \u001b[0;34m\u001b[0m\u001b[0m\n\u001b[0;32m---> 13\u001b[0;31m \u001b[0mget_age\u001b[0m\u001b[0;34m(\u001b[0m\u001b[0;36m2099\u001b[0m\u001b[0;34m)\u001b[0m\u001b[0;34m\u001b[0m\u001b[0;34m\u001b[0m\u001b[0m\n\u001b[0m",
      "\u001b[0;32m/var/folders/8w/_49td4_162qg_28sdmf00rrr0000gn/T/ipykernel_76080/303874177.py\u001b[0m in \u001b[0;36mget_age\u001b[0;34m(birthyear)\u001b[0m\n\u001b[1;32m      9\u001b[0m         \u001b[0;32mreturn\u001b[0m \u001b[0mage\u001b[0m\u001b[0;34m\u001b[0m\u001b[0;34m\u001b[0m\u001b[0m\n\u001b[1;32m     10\u001b[0m     \u001b[0;32melse\u001b[0m\u001b[0;34m:\u001b[0m\u001b[0;34m\u001b[0m\u001b[0;34m\u001b[0m\u001b[0m\n\u001b[0;32m---> 11\u001b[0;31m         \u001b[0;32mraise\u001b[0m \u001b[0mInvalidAgeError\u001b[0m\u001b[0;34m\u001b[0m\u001b[0;34m\u001b[0m\u001b[0m\n\u001b[0m\u001b[1;32m     12\u001b[0m \u001b[0;34m\u001b[0m\u001b[0m\n\u001b[1;32m     13\u001b[0m \u001b[0mget_age\u001b[0m\u001b[0;34m(\u001b[0m\u001b[0;36m2099\u001b[0m\u001b[0;34m)\u001b[0m\u001b[0;34m\u001b[0m\u001b[0;34m\u001b[0m\u001b[0m\n",
      "\u001b[0;31mInvalidAgeError\u001b[0m: "
     ]
    }
   ],
   "source": [
    "import datetime\n",
    "\n",
    "class InvalidAgeError(Exception):\n",
    "    pass\n",
    "\n",
    "def get_age(birthyear):\n",
    "    age = datetime.datetime.now().year - birthyear\n",
    "    if age > 0:\n",
    "        return age\n",
    "    else:\n",
    "        raise InvalidAgeError\n",
    "\n",
    "get_age(2099)"
   ]
  },
  {
   "cell_type": "code",
   "execution_count": null,
   "id": "49fa7e1a",
   "metadata": {},
   "outputs": [],
   "source": []
  }
 ],
 "metadata": {
  "kernelspec": {
   "display_name": "Python 3 (ipykernel)",
   "language": "python",
   "name": "python3"
  },
  "language_info": {
   "codemirror_mode": {
    "name": "ipython",
    "version": 3
   },
   "file_extension": ".py",
   "mimetype": "text/x-python",
   "name": "python",
   "nbconvert_exporter": "python",
   "pygments_lexer": "ipython3",
   "version": "3.9.7"
  }
 },
 "nbformat": 4,
 "nbformat_minor": 5
}
