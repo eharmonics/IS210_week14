{
 "cells": [
  {
   "cell_type": "code",
   "execution_count": 1,
   "id": "74a5b759",
   "metadata": {},
   "outputs": [],
   "source": [
    "def too_many_kittens(kittens, litterboxes, catfood):\n",
    "    if kittens >= litterboxes and catfood == False:\n",
    "        return True\n",
    "    elif kittens >= litterboxes and catfood == True:\n",
    "        return True\n",
    "    elif kittens >= litterboxes and catfood == False:\n",
    "        return True\n",
    "    else:\n",
    "        return False"
   ]
  },
  {
   "cell_type": "code",
   "execution_count": 2,
   "id": "0950ca1b",
   "metadata": {},
   "outputs": [
    {
     "data": {
      "text/plain": [
       "True"
      ]
     },
     "execution_count": 2,
     "metadata": {},
     "output_type": "execute_result"
    }
   ],
   "source": [
    "too_many_kittens(12, 12, False)"
   ]
  },
  {
   "cell_type": "code",
   "execution_count": 3,
   "id": "37493623",
   "metadata": {},
   "outputs": [
    {
     "data": {
      "text/plain": [
       "True"
      ]
     },
     "execution_count": 3,
     "metadata": {},
     "output_type": "execute_result"
    }
   ],
   "source": [
    "too_many_kittens(13, 12, True)"
   ]
  },
  {
   "cell_type": "code",
   "execution_count": 4,
   "id": "4578d491",
   "metadata": {},
   "outputs": [
    {
     "data": {
      "text/plain": [
       "False"
      ]
     },
     "execution_count": 4,
     "metadata": {},
     "output_type": "execute_result"
    }
   ],
   "source": [
    "too_many_kittens(12, 13, True)"
   ]
  },
  {
   "cell_type": "code",
   "execution_count": null,
   "id": "21c12bad",
   "metadata": {},
   "outputs": [],
   "source": [
    "#Task02"
   ]
  },
  {
   "cell_type": "code",
   "execution_count": 5,
   "id": "d24c526d",
   "metadata": {},
   "outputs": [],
   "source": [
    "def defaults(my_required, my_optional = True):\n",
    "    return my_optional == my_required\n"
   ]
  },
  {
   "cell_type": "code",
   "execution_count": 6,
   "id": "2f68b2fe",
   "metadata": {},
   "outputs": [
    {
     "data": {
      "text/plain": [
       "True"
      ]
     },
     "execution_count": 6,
     "metadata": {},
     "output_type": "execute_result"
    }
   ],
   "source": [
    "defaults(True)"
   ]
  },
  {
   "cell_type": "code",
   "execution_count": 7,
   "id": "39ef01e5",
   "metadata": {},
   "outputs": [
    {
     "data": {
      "text/plain": [
       "False"
      ]
     },
     "execution_count": 7,
     "metadata": {},
     "output_type": "execute_result"
    }
   ],
   "source": [
    "defaults(True, False)\n"
   ]
  },
  {
   "cell_type": "code",
   "execution_count": 8,
   "id": "4e88200c",
   "metadata": {},
   "outputs": [
    {
     "data": {
      "text/plain": [
       "True"
      ]
     },
     "execution_count": 8,
     "metadata": {},
     "output_type": "execute_result"
    }
   ],
   "source": [
    "defaults(False, False)"
   ]
  },
  {
   "cell_type": "code",
   "execution_count": null,
   "id": "e50a38ad",
   "metadata": {},
   "outputs": [],
   "source": []
  }
 ],
 "metadata": {
  "kernelspec": {
   "display_name": "Python 3 (ipykernel)",
   "language": "python",
   "name": "python3"
  },
  "language_info": {
   "codemirror_mode": {
    "name": "ipython",
    "version": 3
   },
   "file_extension": ".py",
   "mimetype": "text/x-python",
   "name": "python",
   "nbconvert_exporter": "python",
   "pygments_lexer": "ipython3",
   "version": "3.9.7"
  }
 },
 "nbformat": 4,
 "nbformat_minor": 5
}
