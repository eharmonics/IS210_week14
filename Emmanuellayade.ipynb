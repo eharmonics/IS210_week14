{
 "cells": [
  {
   "cell_type": "code",
   "execution_count": 18,
   "id": "fa54b41b",
   "metadata": {},
   "outputs": [
    {
     "name": "stdout",
     "output_type": "stream",
     "text": [
      "What is your blood pressure? 120\n",
      "Your status is currently:Warning!\n"
     ]
    }
   ],
   "source": [
    "BP = input('What is your blood pressure? ')\n",
    "\n",
    "BP = float(BP)\n",
    "\n",
    "if 0 <= BP <= 89:\n",
    "    BP_STATUS = 'Low'\n",
    "elif 90 <= BP <= 119:\n",
    "    BP_STATUS = 'Ideal'\n",
    "elif 120 <= BP <= 139:\n",
    "    BP_STATUS = 'Warning'\n",
    "elif 140 <= BP <= 159:\n",
    "    BP_STATUS = 'High'\n",
    "elif 160 <= BP:\n",
    "    BP_STATUS = 'Emergency'\n",
    "\n",
    "print('Your status is currently:{}!'.format(BP_STATUS))"
   ]
  },
  {
   "cell_type": "code",
   "execution_count": null,
   "id": "c29487af",
   "metadata": {},
   "outputs": [],
   "source": []
  }
 ],
 "metadata": {
  "kernelspec": {
   "display_name": "Python 3 (ipykernel)",
   "language": "python",
   "name": "python3"
  },
  "language_info": {
   "codemirror_mode": {
    "name": "ipython",
    "version": 3
   },
   "file_extension": ".py",
   "mimetype": "text/x-python",
   "name": "python",
   "nbconvert_exporter": "python",
   "pygments_lexer": "ipython3",
   "version": "3.9.7"
  }
 },
 "nbformat": 4,
 "nbformat_minor": 5
}
