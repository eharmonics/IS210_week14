{
 "cells": [
  {
   "cell_type": "code",
   "execution_count": 54,
   "id": "21c830db",
   "metadata": {},
   "outputs": [
    {
     "data": {
      "text/plain": [
       "140166242"
      ]
     },
     "execution_count": 54,
     "metadata": {},
     "output_type": "execute_result"
    }
   ],
   "source": [
    "DATA = { 2: 7493945, 76: 4654320, 3: 4091979, 90: 1824881, 82: 714422, 45: 1137701, 10: 374362, 0: 326226, -15: 417203, -56: 333525, 67: 323451, 99: 321696, 21: 336753, -100: 361237, 55: 1209714, 5150: 1771800, 42: 4714011, 888: 14817667, 3500: 13760234, 712: 10903322, 7: 10443792, 842: 11716264, 18584: 10559923, 666: 9275602, 70: 11901200, 153: 12074784, 8: 4337229 }\n",
    "\n",
    "def iter_dict_funky_sum(data_dict):\n",
    "    total = 0\n",
    "    for key, val in data_dict.items():\n",
    "        total += (val - key)\n",
    "    return total\n",
    "\n",
    "iter_dict_funky_sum(DATA)"
   ]
  },
  {
   "cell_type": "code",
   "execution_count": null,
   "id": "b259ca89",
   "metadata": {},
   "outputs": [],
   "source": []
  }
 ],
 "metadata": {
  "kernelspec": {
   "display_name": "Python 3 (ipykernel)",
   "language": "python",
   "name": "python3"
  },
  "language_info": {
   "codemirror_mode": {
    "name": "ipython",
    "version": 3
   },
   "file_extension": ".py",
   "mimetype": "text/x-python",
   "name": "python",
   "nbconvert_exporter": "python",
   "pygments_lexer": "ipython3",
   "version": "3.9.7"
  }
 },
 "nbformat": 4,
 "nbformat_minor": 5
}
